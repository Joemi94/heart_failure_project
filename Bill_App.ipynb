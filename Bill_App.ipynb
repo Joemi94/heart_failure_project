{
 "cells": [
  {
   "cell_type": "markdown",
   "id": "1debccfe",
   "metadata": {},
   "source": [
    "# Customer Bill Computation"
   ]
  },
  {
   "cell_type": "code",
   "execution_count": 42,
   "id": "b0402e23",
   "metadata": {},
   "outputs": [],
   "source": [
    "finalCost = dict() \n",
    "def dictLoader(serTypeList, nPagesList, costList):\n",
    "            serList = [var.capitalize() for var in serTypeList]\n",
    "            dictKey = ['Service Type', 'No. of Pages', 'Cost']\n",
    "            for key, ser, nPage, cost in zip(serTypeList, nPagesList, costList):\n",
    "                priceDict[key] = ser\n",
    "                priceDict[key] = nPage\n",
    "                priceDict[key] = cost\n",
    "            return priceDict\n",
    "        \n",
    "def main():\n",
    "    totalBill = []\n",
    "    priceList = [200, 40, 70,100, 300, 1500, 500]\n",
    "    serviceList = ['typing', 'photocopy','printing','scanning','online payment', 'scanning and editing']\n",
    "    genList = ['laminating','email','result checking']\n",
    "    \n",
    "    serType = 'yes'\n",
    "    \n",
    "    while serType != 'no':\n",
    "        serType = input('Enter Service Type (Type NO to quit): ').lower()\n",
    "    \n",
    "        def typing():\n",
    "            nPages = int(input('Number of Pages: '))\n",
    "            bill = nPages * priceList[0]\n",
    "            return bill, nPages\n",
    "\n",
    "        def photocopy():\n",
    "            nPages = int(input('Number of Pages: '))\n",
    "            bill = nPages * priceList[1]\n",
    "            return bill, nPages\n",
    "\n",
    "        def printing():\n",
    "            nPages = int(input('Number of Pages: '))\n",
    "            bill = nPages * priceList[2]\n",
    "            return bill, nPages\n",
    "\n",
    "        def scanning():\n",
    "            nPages = int(input('Number of Pages: '))\n",
    "            bill = nPages * priceList[3]\n",
    "            return bill, nPages\n",
    "\n",
    "        def genservice():\n",
    "            nPages = int(input('Number of Pages: '))\n",
    "            bill = nPages * priceList[4]\n",
    "            return bill, nPages\n",
    "\n",
    "        def onlinePayment():\n",
    "            nPayment = int(input('Number of Payment: '))\n",
    "            bill = nPayment * priceList[5]\n",
    "            return bill, nPayment\n",
    "\n",
    "        def scanEdit():\n",
    "            nPages = int(input('Number of Pages: '))\n",
    "            bill = nPages * priceList[6]\n",
    "            return bill, nPages\n",
    "    \n",
    "\n",
    "        #Computing the bill based on the service type\n",
    "        nPageList = list()\n",
    "        serTypeList = list() \n",
    "        costList = list()\n",
    "        if serType not in serviceList and serType not in genList:\n",
    "            print('Enter a Valid Service Type!')\n",
    "            \n",
    "        elif serType == serviceList[0]:\n",
    "            cost, nPages = typing()\n",
    "            totalBill.append(cost)\n",
    "            nPageList.append(nPages)\n",
    "            serTypeList.append(serType)\n",
    "            costList.append(cost)\n",
    "            \n",
    "        elif serType == serviceList[1]:\n",
    "            cost, nPages = photocopy()\n",
    "            totalBill.append(cost)\n",
    "            nPageList.append(nPages)\n",
    "            serTypeList.append(serType)\n",
    "            costList.append(cost)\n",
    "            \n",
    "        elif serType == serviceList[2]:\n",
    "            cost, nPages = printing()\n",
    "            totalBill.append(cost)\n",
    "            nPageList.append(nPages)\n",
    "            serTypeList.append(serType)\n",
    "            costList.append(cost)\n",
    "            \n",
    "        elif serType == serviceList[3]:\n",
    "            cost, nPages = scanning()\n",
    "            totalBill.append(cost)\n",
    "            nPageList.append(nPages)\n",
    "            serTypeList.append(serType)\n",
    "            costList.append(cost)\n",
    "            \n",
    "        elif serType in genList:\n",
    "            cost, nPages = genservice()\n",
    "            totalBill.append(cost)\n",
    "            nPageList.append(nPages)\n",
    "            serTypeList.append(serType)\n",
    "            costList.append(cost)\n",
    "            \n",
    "        elif serType == serviceList[4]:\n",
    "            cost, nPages = onlinePayment()\n",
    "            nPageList.append(nPages)\n",
    "            serTypeList.append(serType)\n",
    "            costList.append(cost)\n",
    "            \n",
    "        else:\n",
    "            cost, nPages = scanEdit()\n",
    "            totalBill.append(cost)\n",
    "            nPageList.append(nPages)\n",
    "            serTypeList.append(serType)\n",
    "            costList.append(cost)\n",
    "       \n",
    "            \n",
    "    print(f'Your Total Bill is: #{sum(totalBill)}') \n",
    "    print(result)"
   ]
  },
  {
   "cell_type": "code",
   "execution_count": 43,
   "id": "957accda",
   "metadata": {},
   "outputs": [
    {
     "name": "stdout",
     "output_type": "stream",
     "text": [
      "Enter Service Type (Type NO to quit): typing\n",
      "Number of Pages: 2\n",
      "Enter Service Type (Type NO to quit): printing\n",
      "Number of Pages: 2\n",
      "Enter Service Type (Type NO to quit): no\n",
      "Enter a Valid Service Type!\n",
      "Your Total Bill is: #540\n",
      "{'Service Type': 'Printing', 'No. of Pages': 2, 'Cost': 140}\n"
     ]
    }
   ],
   "source": [
    "main() "
   ]
  },
  {
   "cell_type": "code",
   "execution_count": 47,
   "id": "6966a083",
   "metadata": {},
   "outputs": [
    {
     "name": "stdout",
     "output_type": "stream",
     "text": [
      "{'Service Type': ('Typing', 2, 100), 'No. of Pages': ('Photocopy', 3, 200), 'Cost': ('Printing', 4, 300)}\n"
     ]
    }
   ],
   "source": [
    "priceDict = {}\n",
    "serTypeList = ['Typing', 'Photocopy', 'Printing']\n",
    "nPagesList = [2,3,4]\n",
    "costList = [100, 200, 300]\n",
    "dictKey = ['Service Type', 'No. of Pages', 'Cost']\n",
    "for key, ser, nPage, cost in zip(dictKey, serTypeList, nPagesList, costList):\n",
    "    priceDict[key] = ser, nPage, cost\n",
    "   # priceDict[key] = nPage\n",
    "    #priceDict[key] = cost \n",
    "\n",
    "print(priceDict)"
   ]
  },
  {
   "cell_type": "code",
   "execution_count": 33,
   "id": "fb7bafed",
   "metadata": {},
   "outputs": [
    {
     "name": "stdout",
     "output_type": "stream",
     "text": [
      "Grace\n"
     ]
    }
   ],
   "source": [
    "txt = 'grace'\n",
    "print(txt.capitalize())  "
   ]
  },
  {
   "cell_type": "code",
   "execution_count": null,
   "id": "153165e9",
   "metadata": {},
   "outputs": [],
   "source": []
  }
 ],
 "metadata": {
  "kernelspec": {
   "display_name": "Python 3 (ipykernel)",
   "language": "python",
   "name": "python3"
  },
  "language_info": {
   "codemirror_mode": {
    "name": "ipython",
    "version": 3
   },
   "file_extension": ".py",
   "mimetype": "text/x-python",
   "name": "python",
   "nbconvert_exporter": "python",
   "pygments_lexer": "ipython3",
   "version": "3.9.13"
  }
 },
 "nbformat": 4,
 "nbformat_minor": 5
}
