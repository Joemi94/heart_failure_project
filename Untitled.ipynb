{
 "cells": [
  {
   "cell_type": "code",
   "execution_count": 39,
   "id": "4714f283",
   "metadata": {},
   "outputs": [],
   "source": [
    "import pandas as pd \n",
    "\n",
    "score = 0\n",
    "answer = ['International Network','Yes', 'Noble Computer','Network',\n",
    "         'Transmission Control Protocol', 'Network', 'Yes', 'No',\n",
    "         'www.waecdirect.org','Google chrome','server','Yes','Fruad',\n",
    "          'To access information','Receiving and sending messages', 'To access information worldwide']\n",
    "df = pd.read_excel('C:/Users/User/Downloads/Assessment_Response.xlsx')\n",
    "\n",
    "result = df.T  "
   ]
  },
  {
   "cell_type": "code",
   "execution_count": 40,
   "id": "6644814e",
   "metadata": {},
   "outputs": [
    {
     "name": "stdout",
     "output_type": "stream",
     "text": [
      "Total Score 65 out of 16\n"
     ]
    }
   ],
   "source": [
    "count = 0\n",
    "respond = list()\n",
    "for val in result.values.tolist(): \n",
    "    respond.extend(val) \n",
    "newRes = respond[3:]\n",
    "studRes = [x.strip() for x in newRes] \n",
    "\n",
    "for res, ans in zip(studRes, answer):\n",
    "    if res.lower() == ans.lower():\n",
    "        score += 5\n",
    "        count +=1\n",
    "    else:\n",
    "        count += 1\n",
    "        pass\n",
    "\n",
    "print(f'Total Score {score} out of {count}')\n",
    "    \n"
   ]
  },
  {
   "cell_type": "code",
   "execution_count": 22,
   "id": "f7845959",
   "metadata": {},
   "outputs": [
    {
     "data": {
      "text/plain": [
       "[Timestamp('2023-09-18 21:29:30.484000'),\n",
       " 'Agi berving ',\n",
       " 'bervingagi@gmail.com',\n",
       " 'International Network',\n",
       " 'Yes',\n",
       " 'Noble Computer',\n",
       " 'Domain Name System',\n",
       " 'Transmission Control Protocol',\n",
       " 'Network',\n",
       " 'Yes',\n",
       " 'No',\n",
       " 'www.waecdirect.com',\n",
       " 'Google chrome ',\n",
       " 'Browser ',\n",
       " 'Yes ',\n",
       " 'Fruad ',\n",
       " 'To access Information ',\n",
       " 'Receiving and sending messages ',\n",
       " 'To access Information worldwide ']"
      ]
     },
     "execution_count": 22,
     "metadata": {},
     "output_type": "execute_result"
    }
   ],
   "source": [
    "respond "
   ]
  },
  {
   "cell_type": "code",
   "execution_count": 32,
   "id": "54dc75c1",
   "metadata": {},
   "outputs": [],
   "source": [
    "answer = ['International Network','Yes', 'Noble Computer','Network',\n",
    "         'Transmission Control Protocol', 'Network', 'Yes', 'No',\n",
    "         'www.waecdirect.org','Google chrome','server','Yes','Fruad',\n",
    "          'To access information','Recieving and sending messages', 'To access information worldwide']"
   ]
  },
  {
   "cell_type": "code",
   "execution_count": 33,
   "id": "87a394f4",
   "metadata": {},
   "outputs": [
    {
     "data": {
      "text/plain": [
       "['International Network',\n",
       " 'Yes',\n",
       " 'Noble Computer',\n",
       " 'Domain Name System',\n",
       " 'Transmission Control Protocol',\n",
       " 'Network',\n",
       " 'Yes',\n",
       " 'No',\n",
       " 'www.waecdirect.com',\n",
       " 'Google chrome',\n",
       " 'Browser',\n",
       " 'Yes',\n",
       " 'Fruad',\n",
       " 'To access Information',\n",
       " 'Receiving and sending messages',\n",
       " 'To access Information worldwide']"
      ]
     },
     "execution_count": 33,
     "metadata": {},
     "output_type": "execute_result"
    }
   ],
   "source": [
    "new_res"
   ]
  },
  {
   "cell_type": "code",
   "execution_count": null,
   "id": "c8e9139a",
   "metadata": {},
   "outputs": [],
   "source": []
  }
 ],
 "metadata": {
  "kernelspec": {
   "display_name": "Python 3 (ipykernel)",
   "language": "python",
   "name": "python3"
  },
  "language_info": {
   "codemirror_mode": {
    "name": "ipython",
    "version": 3
   },
   "file_extension": ".py",
   "mimetype": "text/x-python",
   "name": "python",
   "nbconvert_exporter": "python",
   "pygments_lexer": "ipython3",
   "version": "3.11.4"
  }
 },
 "nbformat": 4,
 "nbformat_minor": 5
}
